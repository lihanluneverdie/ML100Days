{
 "cells": [
  {
   "cell_type": "markdown",
   "metadata": {},
   "source": [
    "## [作業目標]\n",
    "了解機器學習適合應用的領域與範疇。"
   ]
  },
  {
   "cell_type": "markdown",
   "metadata": {},
   "source": [
    "## [作業重點]\n",
    "透過瞭解機器學習的運作方式，找出非常適用機器學習應用的領域及其原因"
   ]
  },
  {
   "cell_type": "markdown",
   "metadata": {},
   "source": [
    "## 作業\n",
    "請找出一個你認為機器學習可以發光發熱的領域並闡述原因? "
   ]
  },
  {
   "cell_type": "markdown",
   "metadata": {},
   "source": [
    "   ## ANS\n",
    "   機器學習可以在傳統管理領域有不錯的用途。以往一間傳統公司的管理決策常常依賴於專業經理人的經驗來進行決策，這樣的決策模式很難量化。例如土地開發公司要取得土地時，以往只透過專業經理人的過去經驗判斷土地的價值，除了書面上的資料外很多判斷標準無法有效量化成準則。\n",
    "   一間公司與發展時可能會需要有更多有決策能力的員工，以過往的方式很難快速，又便宜的培養人才。但如果能使用機器學習的方式去依照過往經理人的經驗去找尋好土地的特偵，將有利於公司的發展及更容以讓培養中的員工有行動準則。"
   ]
  }
 ],
 "metadata": {
  "kernelspec": {
   "display_name": "Python 3",
   "language": "python",
   "name": "python3"
  },
  "language_info": {
   "codemirror_mode": {
    "name": "ipython",
    "version": 3
   },
   "file_extension": ".py",
   "mimetype": "text/x-python",
   "name": "python",
   "nbconvert_exporter": "python",
   "pygments_lexer": "ipython3",
   "version": "3.6.8"
  }
 },
 "nbformat": 4,
 "nbformat_minor": 2
}
